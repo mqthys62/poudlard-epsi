{
  "cells": [
    {
      "cell_type": "markdown",
      "metadata": {},
      "source": [
        "# 🧙‍♂️ Défi #20 : Is iT yOu hARrY?\n",
        "\n",
        "> **CNN pour la reconnaissance de personnages Harry Potter**  \n",
        "> Workshop Poudlard RP 2025 - Maison Géminiard 🦅\n",
        "\n",
        "---\n",
        "\n",
        "## 📋 Objectif\n",
        "\n",
        "Créer un réseau de neurones convolutif (CNN) capable de reconnaître **au moins 10 personnages** de l'univers Harry Potter.\n",
        "\n",
        "**Points : 30 pts**\n",
        "\n",
        "---\n",
        "\n",
        "## 🎯 Personnages Reconnus\n",
        "\n",
        "1. **Harry Potter** - Le héros\n",
        "2. **Hermione Granger** - La brillante sorcière\n",
        "3. **Ron Weasley** - Le meilleur ami\n",
        "4. **Albus Dumbledore** - Le directeur\n",
        "5. **Severus Snape** - Le professeur énigmatique\n",
        "6. **Lord Voldemort** - Le mage noir\n",
        "7. **Draco Malfoy** - Le rival\n",
        "8. **Rubeus Hagrid** - Le garde-chasse\n",
        "9. **Minerva McGonagall** - Professeur de métamorphose\n",
        "10. **Sirius Black** - Le parrain\n",
        "11. **Dobby** - L'elfe de maison\n",
        "12. **Luna Lovegood** - La rêveuse\n",
        "\n",
        "**Total : 12 personnages**\n"
      ]
    }
  ],
  "metadata": {
    "language_info": {
      "name": "python"
    }
  },
  "nbformat": 4,
  "nbformat_minor": 2
}
